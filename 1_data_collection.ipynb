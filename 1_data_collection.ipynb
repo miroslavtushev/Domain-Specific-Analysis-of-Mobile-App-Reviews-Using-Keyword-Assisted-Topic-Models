{
 "cells": [
  {
   "cell_type": "markdown",
   "metadata": {},
   "source": [
    "# Data Collection\n",
    "\n",
    "This notebook is a part of the replication package for my ICSE'22 paper.\n",
    "\n",
    "Ever since the Apple App Store and Google Play Store prohibited automated API requests to collect app statistics, scraping all app reviews for a specific app has become nearly impossible. Fortunately, researchers and enthusiasts were able to figure out ways to still do that by exploiting the infinite scroll that web versions of the corresponding app stores provide. Such exploits are the cornerstone of third-party Python libraries, which are freely available for download and use.\n",
    "\n",
    "In this notebook, I use [app_store_scraper](https://pypi.org/project/app-store-scraper/) to download app reviews from the Apple App Store and [google_play_scraper](https://pypi.org/project/google-play-scraper/) to download app reviews from Google Store respectively.\n",
    "\n",
    "This notebook consists of the following sections:\n",
    "- **App Selection**\n",
    "- **App Review Collection**"
   ]
  },
  {
   "cell_type": "markdown",
   "metadata": {},
   "source": [
    "## App Selection\n",
    "\n",
    "To demonstrate the feasability of my approach, I selected two domains of apps for the analysis: **investing** and **food delivery**. Most popular apps (based on January 2021 data) were selected from both domains to make sure that enough reviews were available for the analysis. The selected apps are presented below."
   ]
  },
  {
   "cell_type": "code",
   "execution_count": 2,
   "metadata": {},
   "outputs": [],
   "source": [
    "investing_apps = ['Robinhood', 'Acorn', 'Stash', 'E*TRADE', 'Fidelity', 'TD Ameritrade', 'Schwab', 'Personal Capital']\n",
    "food_delivery_apps = ['Uber Eats', 'DoorDash', 'Grubhub', 'Postmates', 'Seamless']"
   ]
  },
  {
   "cell_type": "markdown",
   "metadata": {},
   "source": [
    "## App Review Collection\n",
    "\n",
    "To illustrate the data collection process, I will collect app reviews for 2 apps. For the real analysis, this process was repeated for each app and each app store."
   ]
  },
  {
   "cell_type": "code",
   "execution_count": 3,
   "metadata": {},
   "outputs": [],
   "source": [
    "from app_store_scraper import AppStore\n",
    "from google_play_scraper import reviews_all, Sort\n",
    "from pprint import pprint\n",
    "import pandas as pd"
   ]
  },
  {
   "cell_type": "markdown",
   "metadata": {},
   "source": [
    "To use the Apple App Store scraper, all it needs is the app's name."
   ]
  },
  {
   "cell_type": "code",
   "execution_count": 4,
   "metadata": {
    "scrolled": true
   },
   "outputs": [
    {
     "name": "stderr",
     "output_type": "stream",
     "text": [
      "2021-11-28 16:52:29,782 [INFO] Base - Searching for app id\n",
      "2021-11-28 16:52:31,580 [INFO] Base - Initialised: AppStore('us', 'seamless', 381840917)\n",
      "2021-11-28 16:52:31,581 [INFO] Base - Ready to fetch reviews from: https://apps.apple.com/us/app/seamless/id381840917\n",
      "2021-11-28 16:52:37,522 [INFO] Base - [id:381840917] Fetched 100 reviews (100 fetched in total)\n",
      "2021-11-28 16:52:44,649 [INFO] Base - [id:381840917] Fetched 220 reviews (220 fetched in total)\n",
      "2021-11-28 16:52:51,939 [INFO] Base - [id:381840917] Fetched 340 reviews (340 fetched in total)\n",
      "2021-11-28 16:52:59,202 [INFO] Base - [id:381840917] Fetched 460 reviews (460 fetched in total)\n",
      "2021-11-28 16:53:06,463 [INFO] Base - [id:381840917] Fetched 580 reviews (580 fetched in total)\n",
      "2021-11-28 16:53:13,717 [INFO] Base - [id:381840917] Fetched 700 reviews (700 fetched in total)\n",
      "2021-11-28 16:53:20,938 [INFO] Base - [id:381840917] Fetched 820 reviews (820 fetched in total)\n",
      "2021-11-28 16:53:28,252 [INFO] Base - [id:381840917] Fetched 940 reviews (940 fetched in total)\n",
      "2021-11-28 16:53:35,549 [INFO] Base - [id:381840917] Fetched 1060 reviews (1060 fetched in total)\n",
      "2021-11-28 16:53:42,915 [INFO] Base - [id:381840917] Fetched 1180 reviews (1180 fetched in total)\n",
      "2021-11-28 16:53:50,113 [INFO] Base - [id:381840917] Fetched 1300 reviews (1300 fetched in total)\n",
      "2021-11-28 16:53:57,277 [INFO] Base - [id:381840917] Fetched 1420 reviews (1420 fetched in total)\n",
      "2021-11-28 16:54:04,581 [INFO] Base - [id:381840917] Fetched 1540 reviews (1540 fetched in total)\n",
      "2021-11-28 16:54:11,893 [INFO] Base - [id:381840917] Fetched 1660 reviews (1660 fetched in total)\n",
      "2021-11-28 16:54:19,149 [INFO] Base - [id:381840917] Fetched 1780 reviews (1780 fetched in total)\n",
      "2021-11-28 16:54:26,395 [INFO] Base - [id:381840917] Fetched 1900 reviews (1900 fetched in total)\n",
      "2021-11-28 16:54:33,610 [INFO] Base - [id:381840917] Fetched 2020 reviews (2020 fetched in total)\n",
      "2021-11-28 16:54:40,695 [INFO] Base - [id:381840917] Fetched 2140 reviews (2140 fetched in total)\n",
      "2021-11-28 16:54:47,923 [INFO] Base - [id:381840917] Fetched 2260 reviews (2260 fetched in total)\n",
      "2021-11-28 16:54:55,161 [INFO] Base - [id:381840917] Fetched 2380 reviews (2380 fetched in total)\n",
      "2021-11-28 16:55:02,349 [INFO] Base - [id:381840917] Fetched 2500 reviews (2500 fetched in total)\n",
      "2021-11-28 16:55:09,521 [INFO] Base - [id:381840917] Fetched 2620 reviews (2620 fetched in total)\n",
      "2021-11-28 16:55:16,757 [INFO] Base - [id:381840917] Fetched 2740 reviews (2740 fetched in total)\n",
      "2021-11-28 16:55:24,073 [INFO] Base - [id:381840917] Fetched 2860 reviews (2860 fetched in total)\n",
      "2021-11-28 16:55:31,291 [INFO] Base - [id:381840917] Fetched 2980 reviews (2980 fetched in total)\n",
      "2021-11-28 16:55:38,507 [INFO] Base - [id:381840917] Fetched 3100 reviews (3100 fetched in total)\n",
      "2021-11-28 16:55:45,710 [INFO] Base - [id:381840917] Fetched 3220 reviews (3220 fetched in total)\n",
      "2021-11-28 16:55:53,091 [INFO] Base - [id:381840917] Fetched 3340 reviews (3340 fetched in total)\n",
      "2021-11-28 16:55:59,363 [INFO] Base - [id:381840917] Fetched 3440 reviews (3440 fetched in total)\n",
      "2021-11-28 16:56:05,832 [INFO] Base - [id:381840917] Fetched 3540 reviews (3540 fetched in total)\n",
      "2021-11-28 16:56:13,167 [INFO] Base - [id:381840917] Fetched 3660 reviews (3660 fetched in total)\n",
      "2021-11-28 16:56:20,421 [INFO] Base - [id:381840917] Fetched 3780 reviews (3780 fetched in total)\n",
      "2021-11-28 16:56:27,654 [INFO] Base - [id:381840917] Fetched 3900 reviews (3900 fetched in total)\n",
      "2021-11-28 16:56:34,797 [INFO] Base - [id:381840917] Fetched 4020 reviews (4020 fetched in total)\n",
      "2021-11-28 16:56:42,134 [INFO] Base - [id:381840917] Fetched 4140 reviews (4140 fetched in total)\n",
      "2021-11-28 16:56:49,325 [INFO] Base - [id:381840917] Fetched 4260 reviews (4260 fetched in total)\n",
      "2021-11-28 16:56:56,537 [INFO] Base - [id:381840917] Fetched 4380 reviews (4380 fetched in total)\n",
      "2021-11-28 16:57:03,841 [INFO] Base - [id:381840917] Fetched 4500 reviews (4500 fetched in total)\n",
      "2021-11-28 16:57:11,135 [INFO] Base - [id:381840917] Fetched 4620 reviews (4620 fetched in total)\n",
      "2021-11-28 16:57:18,612 [INFO] Base - [id:381840917] Fetched 4740 reviews (4740 fetched in total)\n",
      "2021-11-28 16:57:25,924 [INFO] Base - [id:381840917] Fetched 4860 reviews (4860 fetched in total)\n",
      "2021-11-28 16:57:33,270 [INFO] Base - [id:381840917] Fetched 4980 reviews (4980 fetched in total)\n",
      "2021-11-28 16:57:40,464 [INFO] Base - [id:381840917] Fetched 5100 reviews (5100 fetched in total)\n",
      "2021-11-28 16:57:47,803 [INFO] Base - [id:381840917] Fetched 5220 reviews (5220 fetched in total)\n",
      "2021-11-28 16:57:55,078 [INFO] Base - [id:381840917] Fetched 5340 reviews (5340 fetched in total)\n",
      "2021-11-28 16:58:02,377 [INFO] Base - [id:381840917] Fetched 5460 reviews (5460 fetched in total)\n",
      "2021-11-28 16:58:09,643 [INFO] Base - [id:381840917] Fetched 5580 reviews (5580 fetched in total)\n",
      "2021-11-28 16:58:16,950 [INFO] Base - [id:381840917] Fetched 5700 reviews (5700 fetched in total)\n",
      "2021-11-28 16:58:24,110 [INFO] Base - [id:381840917] Fetched 5820 reviews (5820 fetched in total)\n",
      "2021-11-28 16:58:31,310 [INFO] Base - [id:381840917] Fetched 5940 reviews (5940 fetched in total)\n",
      "2021-11-28 16:58:38,645 [INFO] Base - [id:381840917] Fetched 6060 reviews (6060 fetched in total)\n",
      "2021-11-28 16:58:46,009 [INFO] Base - [id:381840917] Fetched 6180 reviews (6180 fetched in total)\n",
      "2021-11-28 16:58:53,290 [INFO] Base - [id:381840917] Fetched 6300 reviews (6300 fetched in total)\n",
      "2021-11-28 16:59:00,580 [INFO] Base - [id:381840917] Fetched 6420 reviews (6420 fetched in total)\n",
      "2021-11-28 16:59:07,828 [INFO] Base - [id:381840917] Fetched 6540 reviews (6540 fetched in total)\n",
      "2021-11-28 16:59:14,240 [INFO] Base - [id:381840917] Fetched 6640 reviews (6640 fetched in total)\n",
      "2021-11-28 16:59:21,593 [INFO] Base - [id:381840917] Fetched 6760 reviews (6760 fetched in total)\n",
      "2021-11-28 16:59:28,902 [INFO] Base - [id:381840917] Fetched 6880 reviews (6880 fetched in total)\n",
      "2021-11-28 16:59:36,124 [INFO] Base - [id:381840917] Fetched 7000 reviews (7000 fetched in total)\n",
      "2021-11-28 16:59:43,421 [INFO] Base - [id:381840917] Fetched 7120 reviews (7120 fetched in total)\n",
      "2021-11-28 16:59:49,983 [INFO] Base - [id:381840917] Fetched 7220 reviews (7220 fetched in total)\n",
      "2021-11-28 16:59:57,389 [INFO] Base - [id:381840917] Fetched 7340 reviews (7340 fetched in total)\n",
      "2021-11-28 17:00:04,830 [INFO] Base - [id:381840917] Fetched 7460 reviews (7460 fetched in total)\n",
      "2021-11-28 17:00:12,057 [INFO] Base - [id:381840917] Fetched 7580 reviews (7580 fetched in total)\n",
      "2021-11-28 17:00:19,446 [INFO] Base - [id:381840917] Fetched 7700 reviews (7700 fetched in total)\n",
      "2021-11-28 17:00:26,621 [INFO] Base - [id:381840917] Fetched 7820 reviews (7820 fetched in total)\n",
      "2021-11-28 17:00:33,826 [INFO] Base - [id:381840917] Fetched 7940 reviews (7940 fetched in total)\n",
      "2021-11-28 17:00:41,077 [INFO] Base - [id:381840917] Fetched 8060 reviews (8060 fetched in total)\n",
      "2021-11-28 17:00:48,375 [INFO] Base - [id:381840917] Fetched 8180 reviews (8180 fetched in total)\n",
      "2021-11-28 17:00:55,563 [INFO] Base - [id:381840917] Fetched 8300 reviews (8300 fetched in total)\n",
      "2021-11-28 17:01:02,764 [INFO] Base - [id:381840917] Fetched 8420 reviews (8420 fetched in total)\n",
      "2021-11-28 17:01:09,927 [INFO] Base - [id:381840917] Fetched 8540 reviews (8540 fetched in total)\n",
      "2021-11-28 17:01:17,185 [INFO] Base - [id:381840917] Fetched 8660 reviews (8660 fetched in total)\n",
      "2021-11-28 17:01:24,391 [INFO] Base - [id:381840917] Fetched 8780 reviews (8780 fetched in total)\n",
      "2021-11-28 17:01:31,681 [INFO] Base - [id:381840917] Fetched 8900 reviews (8900 fetched in total)\n",
      "2021-11-28 17:01:38,812 [INFO] Base - [id:381840917] Fetched 9020 reviews (9020 fetched in total)\n",
      "2021-11-28 17:01:46,024 [INFO] Base - [id:381840917] Fetched 9140 reviews (9140 fetched in total)\n",
      "2021-11-28 17:01:53,210 [INFO] Base - [id:381840917] Fetched 9260 reviews (9260 fetched in total)\n",
      "2021-11-28 17:02:00,353 [INFO] Base - [id:381840917] Fetched 9380 reviews (9380 fetched in total)\n",
      "2021-11-28 17:02:07,436 [INFO] Base - [id:381840917] Fetched 9500 reviews (9500 fetched in total)\n",
      "2021-11-28 17:02:14,539 [INFO] Base - [id:381840917] Fetched 9620 reviews (9620 fetched in total)\n",
      "2021-11-28 17:02:22,009 [INFO] Base - [id:381840917] Fetched 9740 reviews (9740 fetched in total)\n"
     ]
    },
    {
     "name": "stderr",
     "output_type": "stream",
     "text": [
      "2021-11-28 17:02:29,289 [INFO] Base - [id:381840917] Fetched 9860 reviews (9860 fetched in total)\n",
      "2021-11-28 17:02:36,482 [INFO] Base - [id:381840917] Fetched 9980 reviews (9980 fetched in total)\n",
      "2021-11-28 17:02:43,680 [INFO] Base - [id:381840917] Fetched 10100 reviews (10100 fetched in total)\n",
      "2021-11-28 17:02:50,874 [INFO] Base - [id:381840917] Fetched 10220 reviews (10220 fetched in total)\n",
      "2021-11-28 17:02:58,063 [INFO] Base - [id:381840917] Fetched 10340 reviews (10340 fetched in total)\n",
      "2021-11-28 17:03:05,274 [INFO] Base - [id:381840917] Fetched 10460 reviews (10460 fetched in total)\n",
      "2021-11-28 17:03:12,421 [INFO] Base - [id:381840917] Fetched 10580 reviews (10580 fetched in total)\n",
      "2021-11-28 17:03:19,640 [INFO] Base - [id:381840917] Fetched 10700 reviews (10700 fetched in total)\n",
      "2021-11-28 17:03:26,776 [INFO] Base - [id:381840917] Fetched 10820 reviews (10820 fetched in total)\n",
      "2021-11-28 17:03:33,982 [INFO] Base - [id:381840917] Fetched 10940 reviews (10940 fetched in total)\n",
      "2021-11-28 17:03:41,282 [INFO] Base - [id:381840917] Fetched 11060 reviews (11060 fetched in total)\n",
      "2021-11-28 17:03:48,449 [INFO] Base - [id:381840917] Fetched 11180 reviews (11180 fetched in total)\n",
      "2021-11-28 17:03:55,951 [INFO] Base - [id:381840917] Fetched 11300 reviews (11300 fetched in total)\n",
      "2021-11-28 17:04:03,317 [INFO] Base - [id:381840917] Fetched 11420 reviews (11420 fetched in total)\n",
      "2021-11-28 17:04:10,580 [INFO] Base - [id:381840917] Fetched 11540 reviews (11540 fetched in total)\n",
      "2021-11-28 17:04:17,842 [INFO] Base - [id:381840917] Fetched 11660 reviews (11660 fetched in total)\n",
      "2021-11-28 17:04:25,244 [INFO] Base - [id:381840917] Fetched 11780 reviews (11780 fetched in total)\n",
      "2021-11-28 17:04:32,730 [INFO] Base - [id:381840917] Fetched 11900 reviews (11900 fetched in total)\n",
      "2021-11-28 17:04:39,985 [INFO] Base - [id:381840917] Fetched 12020 reviews (12020 fetched in total)\n",
      "2021-11-28 17:04:47,234 [INFO] Base - [id:381840917] Fetched 12140 reviews (12140 fetched in total)\n",
      "2021-11-28 17:04:53,448 [INFO] Base - [id:381840917] Fetched 12240 reviews (12240 fetched in total)\n",
      "2021-11-28 17:05:00,889 [INFO] Base - [id:381840917] Fetched 12360 reviews (12360 fetched in total)\n",
      "2021-11-28 17:05:08,089 [INFO] Base - [id:381840917] Fetched 12480 reviews (12480 fetched in total)\n",
      "2021-11-28 17:05:14,358 [INFO] Base - [id:381840917] Fetched 12580 reviews (12580 fetched in total)\n",
      "2021-11-28 17:05:21,346 [INFO] Base - [id:381840917] Fetched 12680 reviews (12680 fetched in total)\n",
      "2021-11-28 17:05:28,627 [INFO] Base - [id:381840917] Fetched 12800 reviews (12800 fetched in total)\n",
      "2021-11-28 17:05:35,794 [INFO] Base - [id:381840917] Fetched 12920 reviews (12920 fetched in total)\n",
      "2021-11-28 17:05:42,894 [INFO] Base - [id:381840917] Fetched 13040 reviews (13040 fetched in total)\n",
      "2021-11-28 17:05:50,101 [INFO] Base - [id:381840917] Fetched 13160 reviews (13160 fetched in total)\n",
      "2021-11-28 17:05:57,271 [INFO] Base - [id:381840917] Fetched 13280 reviews (13280 fetched in total)\n",
      "2021-11-28 17:06:04,462 [INFO] Base - [id:381840917] Fetched 13400 reviews (13400 fetched in total)\n",
      "2021-11-28 17:06:11,756 [INFO] Base - [id:381840917] Fetched 13520 reviews (13520 fetched in total)\n",
      "2021-11-28 17:06:19,002 [INFO] Base - [id:381840917] Fetched 13640 reviews (13640 fetched in total)\n",
      "2021-11-28 17:06:26,096 [INFO] Base - [id:381840917] Fetched 13760 reviews (13760 fetched in total)\n",
      "2021-11-28 17:06:33,409 [INFO] Base - [id:381840917] Fetched 13880 reviews (13880 fetched in total)\n",
      "2021-11-28 17:06:39,656 [INFO] Base - [id:381840917] Fetched 13980 reviews (13980 fetched in total)\n",
      "2021-11-28 17:06:46,934 [INFO] Base - [id:381840917] Fetched 14100 reviews (14100 fetched in total)\n",
      "2021-11-28 17:06:54,198 [INFO] Base - [id:381840917] Fetched 14220 reviews (14220 fetched in total)\n",
      "2021-11-28 17:07:01,426 [INFO] Base - [id:381840917] Fetched 14340 reviews (14340 fetched in total)\n",
      "2021-11-28 17:07:08,647 [INFO] Base - [id:381840917] Fetched 14460 reviews (14460 fetched in total)\n",
      "2021-11-28 17:07:15,891 [INFO] Base - [id:381840917] Fetched 14580 reviews (14580 fetched in total)\n",
      "2021-11-28 17:07:23,065 [INFO] Base - [id:381840917] Fetched 14700 reviews (14700 fetched in total)\n",
      "2021-11-28 17:07:30,242 [INFO] Base - [id:381840917] Fetched 14820 reviews (14820 fetched in total)\n",
      "2021-11-28 17:07:37,456 [INFO] Base - [id:381840917] Fetched 14940 reviews (14940 fetched in total)\n",
      "2021-11-28 17:07:41,307 [INFO] Base - [id:381840917] Fetched 15004 reviews (15004 fetched in total)\n"
     ]
    }
   ],
   "source": [
    "app_name = \"Seamless\"\n",
    "\n",
    "rb = AppStore(country=\"us\", app_name=app_name)\n",
    "rb.review(sleep=1) # sleep is added to avoid ip lock"
   ]
  },
  {
   "cell_type": "markdown",
   "metadata": {},
   "source": [
    "To make sure that indeed all reviews have been collected for a given app I create a date histogram"
   ]
  },
  {
   "cell_type": "code",
   "execution_count": 6,
   "metadata": {},
   "outputs": [
    {
     "name": "stdout",
     "output_type": "stream",
     "text": [
      "2010-07-18 16:14:00\n"
     ]
    },
    {
     "data": {
      "image/png": "[encoded data removed]",
      "text/plain": [
       "<Figure size 432x288 with 1 Axes>"
      ]
     },
     "metadata": {
      "needs_background": "light"
     },
     "output_type": "display_data"
    }
   ],
   "source": [
    "data = pd.DataFrame(rb.reviews)\n",
    "data.date.hist()\n",
    "print(data.date.min())"
   ]
  },
  {
   "cell_type": "markdown",
   "metadata": {},
   "source": [
    "As shown, the earliest review dates back to 2010"
   ]
  },
  {
   "cell_type": "markdown",
   "metadata": {},
   "source": [
    "Each app's reviews can be exported as a csv using pandas"
   ]
  },
  {
   "cell_type": "code",
   "execution_count": null,
   "metadata": {},
   "outputs": [],
   "source": [
    "data.to_csv(f'{app_name}_apple.csv')"
   ]
  },
  {
   "cell_type": "markdown",
   "metadata": {},
   "source": [
    "Google Play scrapper uses a different syntax. It requires the id of the app"
   ]
  },
  {
   "cell_type": "code",
   "execution_count": 7,
   "metadata": {},
   "outputs": [],
   "source": [
    "result = reviews_all(\n",
    "    'com.personalcapital.pcapandroid',\n",
    "    lang='en', # defaults to 'en'\n",
    "    country='us', # defaults to 'us'\n",
    "    sort=Sort.NEWEST, # defaults to Sort.MOST_RELEVANT\n",
    "    count=200, # defaults to 100\n",
    "    #filter_score_with=5 # defaults to None(means all score)\n",
    "    sleep_milliseconds=1000,\n",
    ")"
   ]
  },
  {
   "cell_type": "markdown",
   "metadata": {},
   "source": [
    "Here is a breakdown of the review timeline by score"
   ]
  },
  {
   "cell_type": "code",
   "execution_count": 8,
   "metadata": {},
   "outputs": [
    {
     "name": "stderr",
     "output_type": "stream",
     "text": [
      "2021-11-28 17:11:19,981 [INFO] numexpr.utils - NumExpr defaulting to 8 threads.\n"
     ]
    },
    {
     "data": {
      "text/plain": [
       "<matplotlib.axes._subplots.AxesSubplot at 0x151ff2b9ee0>"
      ]
     },
     "execution_count": 8,
     "metadata": {},
     "output_type": "execute_result"
    },
    {
     "data": {
      "image/png": "[encoded data removed]",
      "text/plain": [
       "<Figure size 864x720 with 1 Axes>"
      ]
     },
     "metadata": {
      "needs_background": "light"
     },
     "output_type": "display_data"
    }
   ],
   "source": [
    "import seaborn as sns\n",
    "import matplotlib.pyplot as plt\n",
    "\n",
    "plt.figure(figsize=(12,10))\n",
    "sns.histplot(data=pd.DataFrame(result), x='at', bins=30, hue='score')"
   ]
  }
 ],
 "metadata": {
  "kernelspec": {
   "display_name": "Python 3",
   "language": "python",
   "name": "python3"
  },
  "language_info": {
   "codemirror_mode": {
    "name": "ipython",
    "version": 3
   },
   "file_extension": ".py",
   "mimetype": "text/x-python",
   "name": "python",
   "nbconvert_exporter": "python",
   "pygments_lexer": "ipython3",
   "version": "3.8.3"
  }
 },
 "nbformat": 4,
 "nbformat_minor": 4
}
